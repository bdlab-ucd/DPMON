{
 "cells": [
  {
   "cell_type": "code",
   "source": [
    "import pandas as pd\n",
    "import numpy as np\n",
    "import networkx as nx\n",
    "from matplotlib import pyplot as plt\n",
    "from sklearn.pipeline import Pipeline\n",
    "from sklearn.decomposition import PCA\n",
    "from sklearn.preprocessing import StandardScaler\n",
    "from sklearn.metrics.pairwise import cosine_similarity\n"
   ],
   "metadata": {
    "collapsed": false,
    "ExecuteTime": {
     "end_time": "2024-06-21T20:42:32.949837Z",
     "start_time": "2024-06-21T20:42:32.824435Z"
    }
   },
   "id": "83bc840044171682",
   "outputs": [],
   "execution_count": 1
  },
  {
   "cell_type": "code",
   "source": [
    "# Calculating the correlation between nodes and the phenotype to add as labels to the embedded points\n",
    "original_dataset = pd.read_csv('../GNNs/data/COPD/SparsifiedNetworks/fev1_X.csv', index_col=0).reset_index(drop='index')\n",
    "complete_original_dataset = pd.read_csv('../GNNs/data/COPD/SparsifiedNetworks/fev1_clinical_variables.csv', index_col=0).reset_index(drop='index')\n",
    "dataset_associated_phenotype = pd.read_csv('../GNNs/data/COPD/SparsifiedNetworks/fev1_Y.csv', index_col=0).reset_index(drop='index')\n",
    "\n",
    "corr = [abs(round(x * 100, 2)) for x in original_dataset.corrwith(dataset_associated_phenotype['FEV1pp_utah']).tolist()]\n",
    "\n",
    "# Altering some Correlation Values\n",
    "# for corr_idx, _ in enumerate(corr):\n",
    "#     if corr[corr_idx] > 13 and corr[corr_idx] < 15:\n",
    "#         corr[corr_idx] = corr[corr_idx] + 40\n",
    "# print(corr)\n",
    "\n",
    "clinical_variables_cols = ['gender', 'age_visit', 'Chronic_Bronchitis', 'PRM_pct_emphysema_Thirona', 'PRM_pct_normal_Thirona', 'Pi10_Thirona', 'comorbidities']\n",
    "graph_adj = pd.read_csv('../GNNs/data/COPD/SparsifiedNetworks/trimmed_fev1_0.515_0.111_adj.csv', index_col=0).to_numpy()\n",
    "nodes_names = pd.read_csv('../GNNs/data/COPD/SparsifiedNetworks/trimmed_fev1_0.515_0.111_adj.csv', index_col=0).index.tolist()\n",
    "\n",
    "nodes_features = []\n",
    "for node_name in nodes_names:\n",
    "    node_features = []\n",
    "    for clinical_variable in clinical_variables_cols:\n",
    "        node_features.append(\n",
    "            abs(original_dataset[node_name].corr(complete_original_dataset[clinical_variable].astype('float64'))))\n",
    "    nodes_features.append(node_features)\n",
    "\n",
    "features = np.array(nodes_features)\n",
    "cosine_sim = cosine_similarity(features)\n",
    "cosine_sim"
   ],
   "metadata": {
    "collapsed": false,
    "ExecuteTime": {
     "end_time": "2024-06-21T20:42:38.568292Z",
     "start_time": "2024-06-21T20:42:38.485294Z"
    }
   },
   "id": "2df83f2b0dacdb9c",
   "outputs": [
    {
     "data": {
      "text/plain": [
       "array([[1.        , 0.8808833 , 0.89209331, 0.87631979, 0.77171384,\n",
       "        0.96221322, 0.84466929, 0.77226948, 0.81475675, 0.75647999,\n",
       "        0.69635405, 0.83453148, 0.8002253 , 0.68801885, 0.92470501,\n",
       "        0.92553476, 0.89749232, 0.85950568, 0.90856643, 0.74506378,\n",
       "        0.77746127, 0.75892026, 0.85533618, 0.96098757, 0.88963592,\n",
       "        0.97411588, 0.74479355],\n",
       "       [0.8808833 , 1.        , 0.80623261, 0.98462519, 0.97653739,\n",
       "        0.7911017 , 0.66902543, 0.71602269, 0.98502332, 0.94889831,\n",
       "        0.94478347, 0.76539138, 0.97972669, 0.94273574, 0.97620001,\n",
       "        0.92784404, 0.99596934, 0.84956201, 0.70639911, 0.65160444,\n",
       "        0.96679902, 0.7247365 , 0.97731485, 0.86449422, 0.98258598,\n",
       "        0.84188052, 0.95436849],\n",
       "       [0.89209331, 0.80623261, 1.        , 0.84026423, 0.74970344,\n",
       "        0.96090635, 0.94912528, 0.97026113, 0.78200402, 0.78960226,\n",
       "        0.63987606, 0.96077842, 0.7206548 , 0.60410698, 0.89680995,\n",
       "        0.88035166, 0.83737091, 0.96263266, 0.84844515, 0.93403939,\n",
       "        0.69129484, 0.74137386, 0.75731003, 0.9723697 , 0.84557076,\n",
       "        0.96011222, 0.71991395],\n",
       "       [0.87631979, 0.98462519, 0.84026423, 1.        , 0.97255248,\n",
       "        0.80524014, 0.71859033, 0.77833625, 0.98903   , 0.97500201,\n",
       "        0.93486271, 0.76660176, 0.97537312, 0.92664137, 0.98135709,\n",
       "        0.91134577, 0.97640767, 0.87400851, 0.66676553, 0.66252854,\n",
       "        0.96846467, 0.6395846 , 0.97508845, 0.89326372, 0.99838854,\n",
       "        0.86350328, 0.95746004],\n",
       "       [0.77171384, 0.97653739, 0.74970344, 0.97255248, 1.        ,\n",
       "        0.68281691, 0.58114426, 0.69388107, 0.99474952, 0.98375245,\n",
       "        0.97627404, 0.70112655, 0.98898143, 0.9773605 , 0.94414157,\n",
       "        0.87657651, 0.96447226, 0.81854922, 0.56366735, 0.59763864,\n",
       "        0.98196157, 0.63208511, 0.96307721, 0.79188187, 0.96433227,\n",
       "        0.74998498, 0.98939668],\n",
       "       [0.96221322, 0.7911017 , 0.96090635, 0.80524014, 0.68281691,\n",
       "        1.        , 0.94157377, 0.87723097, 0.72774851, 0.69703344,\n",
       "        0.57601016, 0.92110658, 0.68423899, 0.55110459, 0.87425396,\n",
       "        0.8877356 , 0.82237088, 0.89773912, 0.93483919, 0.86831211,\n",
       "        0.65304673, 0.77256459, 0.74309305, 0.97520155, 0.81741139,\n",
       "        0.99018752, 0.6475606 ],\n",
       "       [0.84466929, 0.66902543, 0.94912528, 0.71859033, 0.58114426,\n",
       "        0.94157377, 1.        , 0.92922403, 0.63275419, 0.63973657,\n",
       "        0.49119355, 0.9231634 , 0.55597633, 0.43126735, 0.77163043,\n",
       "        0.73293124, 0.70365013, 0.88800875, 0.85083524, 0.89623531,\n",
       "        0.52850207, 0.67953552, 0.62553103, 0.91638549, 0.73269587,\n",
       "        0.92152232, 0.52778506],\n",
       "       [0.77226948, 0.71602269, 0.97026113, 0.77833625, 0.69388107,\n",
       "        0.87723097, 0.92922403, 1.        , 0.72611776, 0.76816865,\n",
       "        0.59126579, 0.92228355, 0.64689722, 0.53664879, 0.82484697,\n",
       "        0.76868305, 0.74849655, 0.94882165, 0.72447654, 0.93407789,\n",
       "        0.62365456, 0.620413  , 0.6788924 , 0.91019707, 0.78217086,\n",
       "        0.87545409, 0.67000692],\n",
       "       [0.81475675, 0.98502332, 0.78200402, 0.98903   , 0.99474952,\n",
       "        0.72774851, 0.63275419, 0.72611776, 1.        , 0.98603197,\n",
       "        0.97224138, 0.72078214, 0.99159529, 0.96646194, 0.96365964,\n",
       "        0.88470034, 0.97458209, 0.84595797, 0.60178317, 0.62018518,\n",
       "        0.98624592, 0.62900393, 0.97933431, 0.83294609, 0.98479106,\n",
       "        0.79159542, 0.98339216],\n",
       "       [0.75647999, 0.94889831, 0.78960226, 0.97500201, 0.98375245,\n",
       "        0.69703344, 0.63973657, 0.76816865, 0.98603197, 1.        ,\n",
       "        0.95303651, 0.7183235 , 0.96621839, 0.94234943, 0.93887593,\n",
       "        0.84849497, 0.93607309, 0.84735595, 0.5286124 , 0.63098857,\n",
       "        0.96348286, 0.55973097, 0.94167247, 0.8155416 , 0.96651401,\n",
       "        0.76575293, 0.97615889],\n",
       "       [0.69635405, 0.94478347, 0.63987606, 0.93486271, 0.97627404,\n",
       "        0.57601016, 0.49119355, 0.59126579, 0.97224138, 0.95303651,\n",
       "        1.        , 0.60187832, 0.97133326, 0.98882643, 0.88455194,\n",
       "        0.77182341, 0.9266645 , 0.74733726, 0.47884347, 0.49222004,\n",
       "        0.97272206, 0.57006383, 0.95143573, 0.69807597, 0.92978253,\n",
       "        0.64650722, 0.95882107],\n",
       "       [0.83453148, 0.76539138, 0.96077842, 0.76660176, 0.70112655,\n",
       "        0.92110658, 0.9231634 , 0.92228355, 0.72078214, 0.7183235 ,\n",
       "        0.60187832, 1.        , 0.64704743, 0.55341504, 0.83094324,\n",
       "        0.83055364, 0.80813592, 0.92610045, 0.88387496, 0.96951835,\n",
       "        0.60584969, 0.86574106, 0.67761536, 0.89741988, 0.76858577,\n",
       "        0.89631914, 0.64117377],\n",
       "       [0.8002253 , 0.97972669, 0.7206548 , 0.97537312, 0.98898143,\n",
       "        0.68423899, 0.55597633, 0.64689722, 0.99159529, 0.96621839,\n",
       "        0.97133326, 0.64704743, 1.        , 0.9808024 , 0.94678009,\n",
       "        0.87936246, 0.96281837, 0.78928048, 0.56449497, 0.53548288,\n",
       "        0.99775305, 0.59071824, 0.984395  , 0.79565446, 0.97128186,\n",
       "        0.75723818, 0.98775252],\n",
       "       [0.68801885, 0.94273574, 0.60410698, 0.92664137, 0.9773605 ,\n",
       "        0.55110459, 0.43126735, 0.53664879, 0.96646194, 0.94234943,\n",
       "        0.98882643, 0.55341504, 0.9808024 , 1.        , 0.87674013,\n",
       "        0.79501415, 0.9182692 , 0.70170494, 0.45082871, 0.43078087,\n",
       "        0.98214299, 0.54606277, 0.95027376, 0.67643516, 0.91902874,\n",
       "        0.63248575, 0.97160651],\n",
       "       [0.92470501, 0.97620001, 0.89680995, 0.98135709, 0.94414157,\n",
       "        0.87425396, 0.77163043, 0.82484697, 0.96365964, 0.93887593,\n",
       "        0.88455194, 0.83094324, 0.94678009, 0.87674013, 1.        ,\n",
       "        0.95587419, 0.98249011, 0.92759042, 0.76685413, 0.75266994,\n",
       "        0.93132434, 0.72001466, 0.96390478, 0.94414752, 0.98480625,\n",
       "        0.91592805, 0.93311694],\n",
       "       [0.92553476, 0.92784404, 0.88035166, 0.91134577, 0.87657651,\n",
       "        0.8877356 , 0.73293124, 0.76868305, 0.88470034, 0.84849497,\n",
       "        0.77182341, 0.83055364, 0.87936246, 0.79501415, 0.95587419,\n",
       "        1.        , 0.93809303, 0.86094117, 0.81018362, 0.74108696,\n",
       "        0.85158556, 0.77530883, 0.88269526, 0.92091723, 0.90966323,\n",
       "        0.92202691, 0.86960273],\n",
       "       [0.89749232, 0.99596934, 0.83737091, 0.97640767, 0.96447226,\n",
       "        0.82237088, 0.70365013, 0.74849655, 0.97458209, 0.93607309,\n",
       "        0.9266645 , 0.80813592, 0.96281837, 0.9182692 , 0.98249011,\n",
       "        0.93809303, 1.        , 0.88092012, 0.75324841, 0.70779284,\n",
       "        0.94565886, 0.77063158, 0.96767333, 0.88574819, 0.97612559,\n",
       "        0.86232432, 0.93903229],\n",
       "       [0.85950568, 0.84956201, 0.96263266, 0.87400851, 0.81854922,\n",
       "        0.89773912, 0.88800875, 0.94882165, 0.84595797, 0.84735595,\n",
       "        0.74733726, 0.92610045, 0.78928048, 0.70170494, 0.92759042,\n",
       "        0.86094117, 0.88092012, 1.        , 0.80562239, 0.91771131,\n",
       "        0.76579771, 0.74144649, 0.83462037, 0.94804297, 0.8843905 ,\n",
       "        0.90487052, 0.79650959],\n",
       "       [0.90856643, 0.70639911, 0.84844515, 0.66676553, 0.56366735,\n",
       "        0.93483919, 0.85083524, 0.72447654, 0.60178317, 0.5286124 ,\n",
       "        0.47884347, 0.88387496, 0.56449497, 0.45082871, 0.76685413,\n",
       "        0.81018362, 0.75324841, 0.80562239, 1.        , 0.8337784 ,\n",
       "        0.52133278, 0.89649997, 0.64345711, 0.86370623, 0.68532219,\n",
       "        0.89458571, 0.50732308],\n",
       "       [0.74506378, 0.65160444, 0.93403939, 0.66252854, 0.59763864,\n",
       "        0.86831211, 0.89623531, 0.93407789, 0.62018518, 0.63098857,\n",
       "        0.49222004, 0.96951835, 0.53548288, 0.43078087, 0.75266994,\n",
       "        0.74108696, 0.70779284, 0.91771131, 0.8337784 , 1.        ,\n",
       "        0.49413005, 0.7991942 , 0.5783443 , 0.84828311, 0.66864457,\n",
       "        0.82727993, 0.55217422],\n",
       "       [0.77746127, 0.96679902, 0.69129484, 0.96846467, 0.98196157,\n",
       "        0.65304673, 0.52850207, 0.62365456, 0.98624592, 0.96348286,\n",
       "        0.97272206, 0.60584969, 0.99775305, 0.98214299, 0.93132434,\n",
       "        0.85158556, 0.94565886, 0.76579771, 0.52133278, 0.49413005,\n",
       "        1.        , 0.53901298, 0.98168647, 0.77388557, 0.96473579,\n",
       "        0.73148258, 0.98508342],\n",
       "       [0.75892026, 0.7247365 , 0.74137386, 0.6395846 , 0.63208511,\n",
       "        0.77256459, 0.67953552, 0.620413  , 0.62900393, 0.55973097,\n",
       "        0.57006383, 0.86574106, 0.59071824, 0.54606277, 0.72001466,\n",
       "        0.77530883, 0.77063158, 0.74144649, 0.89649997, 0.7991942 ,\n",
       "        0.53901298, 1.        , 0.6188701 , 0.7113099 , 0.64270044,\n",
       "        0.73420168, 0.55619308],\n",
       "       [0.85533618, 0.97731485, 0.75731003, 0.97508845, 0.96307721,\n",
       "        0.74309305, 0.62553103, 0.6788924 , 0.97933431, 0.94167247,\n",
       "        0.95143573, 0.67761536, 0.984395  , 0.95027376, 0.96390478,\n",
       "        0.88269526, 0.96767333, 0.83462037, 0.64345711, 0.5783443 ,\n",
       "        0.98168647, 0.6188701 , 1.        , 0.84541832, 0.98077601,\n",
       "        0.80630423, 0.95968852],\n",
       "       [0.96098757, 0.86449422, 0.9723697 , 0.89326372, 0.79188187,\n",
       "        0.97520155, 0.91638549, 0.91019707, 0.83294609, 0.8155416 ,\n",
       "        0.69807597, 0.89741988, 0.79565446, 0.67643516, 0.94414752,\n",
       "        0.92091723, 0.88574819, 0.94804297, 0.86370623, 0.84828311,\n",
       "        0.77388557, 0.7113099 , 0.84541832, 1.        , 0.90445609,\n",
       "        0.98966501, 0.77478643],\n",
       "       [0.88963592, 0.98258598, 0.84557076, 0.99838854, 0.96433227,\n",
       "        0.81741139, 0.73269587, 0.78217086, 0.98479106, 0.96651401,\n",
       "        0.92978253, 0.76858577, 0.97128186, 0.91902874, 0.98480625,\n",
       "        0.90966323, 0.97612559, 0.8843905 , 0.68532219, 0.66864457,\n",
       "        0.96473579, 0.64270044, 0.98077601, 0.90445609, 1.        ,\n",
       "        0.87361466, 0.94981105],\n",
       "       [0.97411588, 0.84188052, 0.96011222, 0.86350328, 0.74998498,\n",
       "        0.99018752, 0.92152232, 0.87545409, 0.79159542, 0.76575293,\n",
       "        0.64650722, 0.89631914, 0.75723818, 0.63248575, 0.91592805,\n",
       "        0.92202691, 0.86232432, 0.90487052, 0.89458571, 0.82727993,\n",
       "        0.73148258, 0.73420168, 0.80630423, 0.98966501, 0.87361466,\n",
       "        1.        , 0.72397149],\n",
       "       [0.74479355, 0.95436849, 0.71991395, 0.95746004, 0.98939668,\n",
       "        0.6475606 , 0.52778506, 0.67000692, 0.98339216, 0.97615889,\n",
       "        0.95882107, 0.64117377, 0.98775252, 0.97160651, 0.93311694,\n",
       "        0.86960273, 0.93903229, 0.79650959, 0.50732308, 0.55217422,\n",
       "        0.98508342, 0.55619308, 0.95968852, 0.77478643, 0.94981105,\n",
       "        0.72397149, 1.        ]])"
      ]
     },
     "execution_count": 2,
     "metadata": {},
     "output_type": "execute_result"
    }
   ],
   "execution_count": 2
  },
  {
   "cell_type": "code",
   "source": [
    "hidden_layer = pd.read_csv('../GNNs/HiddenLayerOutput_GCN_trimmed_fev1_0.515_0.111_adj.csv.max.43.backup')\n",
    "# hidden_layer = pd.read_csv('../GNNs/HiddenLayerOutput_GCN_trimmed_fev1_0.515_0.222_adj.csv')\n",
    "hidden_layer = pd.read_csv('../GNNs/HiddenLayerOutput_GCN_trimmed_fev1_0.515_0.111_adj.csv.backup.41')\n",
    "# hidden_layer = pd.read_csv('../GNNs/HiddenLayerOutput_GCN_trimmed_fev1_0.215_1.000_adj.csv')\n",
    "hidden_layer_asp = pd.read_csv('../ASP/HiddenLayerOutput_ASP')"
   ],
   "metadata": {
    "collapsed": false,
    "ExecuteTime": {
     "end_time": "2024-06-21T20:47:13.319218Z",
     "start_time": "2024-06-21T20:47:13.244093Z"
    }
   },
   "id": "ecb35872652ca019",
   "outputs": [],
   "execution_count": 5
  },
  {
   "cell_type": "code",
   "execution_count": 78,
   "source": [
    "hidden_layer_cosine_sim = cosine_similarity(np.array(hidden_layer))\n",
    "hidden_layer_cosine_sim"
   ],
   "metadata": {
    "collapsed": false,
    "ExecuteTime": {
     "end_time": "2023-09-21T21:31:10.773952429Z",
     "start_time": "2023-09-21T21:31:10.689010365Z"
    }
   },
   "id": "a3f87578e0898a50",
   "outputs": []
  },
  {
   "cell_type": "code",
   "source": [
    "pca = PCA(n_components=2)\n",
    "pipe = Pipeline([('scaler', StandardScaler()), ('pca', pca)])\n",
    "transform = pca.fit_transform(hidden_layer)\n",
    "\n",
    "PC1 = transform[:,0]\n",
    "PC2 = transform[:,1]\n",
    "\n",
    "fig, ax = plt.subplots()\n",
    "plot = ax.scatter(PC1, PC2)\n",
    "ax.set_xlabel(\"PC1\")\n",
    "ax.set_ylabel(\"PC2\")\n",
    "ax.set_title(\"First Two Principal Components\")\n",
    "for i, corr_val in enumerate(corr):\n",
    "    plt.annotate('(%s, %s)' % (i, abs(corr_val)), (PC1[i], PC2[i]))\n",
    "plt.show()\n",
    "print(\"Explained Variance Ratio %s\" % pca.explained_variance_ratio_)\n",
    "\n",
    "\n",
    "pca = PCA(n_components=2)\n",
    "pipe = Pipeline([('scaler', StandardScaler()), ('pca', pca)])\n",
    "transform = pca.fit_transform(hidden_layer2)\n",
    "\n",
    "PC1 = transform[:,0]\n",
    "PC2 = transform[:,1]\n",
    "\n",
    "fig, ax = plt.subplots()\n",
    "plot = ax.scatter(PC1, PC2)\n",
    "ax.set_xlabel(\"PC1\")\n",
    "ax.set_ylabel(\"PC2\")\n",
    "ax.set_title(\"First Two Principal Components\")\n",
    "for i, corr_val in enumerate(corr):\n",
    "    plt.annotate('(%s, %s)' % (i, abs(corr_val)), (PC1[i], PC2[i]))\n",
    "plt.show()\n",
    "print(\"Explained Variance Ratio %s\" % pca.explained_variance_ratio_)\n",
    "\n",
    "\n",
    "pca = PCA(n_components=2)\n",
    "pipe = Pipeline([('scaler', StandardScaler()), ('pca', pca)])\n",
    "transform = pca.fit_transform(hidden_layer_asp)\n",
    "\n",
    "PC1 = transform[:,0]\n",
    "PC2 = transform[:,1]\n",
    "\n",
    "fig, ax = plt.subplots()\n",
    "plot = ax.scatter(PC1, PC2)\n",
    "ax.set_xlabel(\"PC1\")\n",
    "ax.set_ylabel(\"PC2\")\n",
    "ax.set_title(\"First Two Principal Components\")\n",
    "for i, corr_val in enumerate(corr):\n",
    "    plt.annotate('(%s, %s)' % (i, abs(corr_val)), (PC1[i], PC2[i]))\n",
    "plt.show()\n",
    "print(\"Explained Variance Ratio %s\" % pca.explained_variance_ratio_)"
   ],
   "metadata": {
    "collapsed": false,
    "ExecuteTime": {
     "end_time": "2024-06-21T20:47:17.591830Z",
     "start_time": "2024-06-21T20:47:17.145872Z"
    }
   },
   "id": "eb728503fea6c2b7",
   "outputs": [
    {
     "data": {
      "text/plain": [
       "<Figure size 640x480 with 1 Axes>"
      ],
      "image/png": "[encoded data removed]"
     },
     "metadata": {},
     "output_type": "display_data"
    },
    {
     "name": "stdout",
     "output_type": "stream",
     "text": [
      "Explained Variance Ratio [0.91078769 0.05875907]\n"
     ]
    },
    {
     "data": {
      "text/plain": [
       "<Figure size 640x480 with 1 Axes>"
      ],
      "image/png": "[encoded data removed]"
     },
     "metadata": {},
     "output_type": "display_data"
    },
    {
     "name": "stdout",
     "output_type": "stream",
     "text": [
      "Explained Variance Ratio [0.91078769 0.05875907]\n"
     ]
    },
    {
     "data": {
      "text/plain": [
       "<Figure size 640x480 with 1 Axes>"
      ],
      "image/png": "[encoded data removed]"
     },
     "metadata": {},
     "output_type": "display_data"
    },
    {
     "name": "stdout",
     "output_type": "stream",
     "text": [
      "Explained Variance Ratio [0.23966227 0.14744597]\n"
     ]
    }
   ],
   "execution_count": 6
  },
  {
   "cell_type": "code",
   "execution_count": 80,
   "source": [
    "pca = PCA()\n",
    "pipe = Pipeline([('scaler', StandardScaler()), ('pca', pca)])\n",
    "transform = pca.fit_transform(hidden_layer)\n",
    "plt.plot(np.cumsum(pca.explained_variance_ratio_))\n",
    "plt.xlabel('number of components')\n",
    "plt.ylabel('cumulative explained variance');\n",
    "\n",
    "pca = PCA()\n",
    "pipe = Pipeline([('scaler', StandardScaler()), ('pca', pca)])\n",
    "transform = pca.fit_transform(hidden_layer2)\n",
    "plt.plot(np.cumsum(pca.explained_variance_ratio_))\n",
    "plt.xlabel('number of components')\n",
    "plt.ylabel('cumulative explained variance');\n",
    "\n",
    "pca = PCA()\n",
    "pipe = Pipeline([('scaler', StandardScaler()), ('pca', pca)])\n",
    "transform = pca.fit_transform(hidden_layer_asp)\n",
    "plt.plot(np.cumsum(pca.explained_variance_ratio_))\n",
    "plt.xlabel('number of components')\n",
    "plt.ylabel('cumulative explained variance');"
   ],
   "metadata": {
    "collapsed": false,
    "ExecuteTime": {
     "end_time": "2023-09-21T21:31:11.268703773Z",
     "start_time": "2023-09-21T21:31:11.150088480Z"
    }
   },
   "id": "8a14d7c34453c244",
   "outputs": []
  },
  {
   "cell_type": "code",
   "execution_count": 81,
   "source": [
    "pca = PCA(2).fit(hidden_layer)\n",
    "\n",
    "# loadings = pd.DataFrame(pca.components_, columns=hidden_layer.columns)\n",
    "# print(loadings)\n",
    "\n",
    "X_pca=pca.transform(hidden_layer)\n",
    "\n",
    "plt.matshow(pca.components_,cmap='viridis')\n",
    "plt.yticks([0,1],['1st Comp','2nd Comp'],fontsize=10)\n",
    "plt.colorbar()\n",
    "plt.xticks(range(len(hidden_layer.columns)), hidden_layer.columns, rotation=90)\n",
    "plt.show()\n",
    "\n",
    "\n",
    "pca = PCA(2).fit(hidden_layer2)\n",
    "# loadings = pd.DataFrame(pca.components_, columns=hidden_layer.columns)\n",
    "# print(loadings)\n",
    "\n",
    "X_pca=pca.transform(hidden_layer2)\n",
    "\n",
    "plt.matshow(pca.components_,cmap='viridis')\n",
    "plt.yticks([0,1],['1st Comp','2nd Comp'],fontsize=10)\n",
    "plt.colorbar()\n",
    "plt.xticks(range(len(hidden_layer2.columns)), hidden_layer2.columns, rotation=90)\n",
    "plt.show()\n",
    "\n",
    "\n",
    "pca = PCA(2).fit(hidden_layer_asp)\n",
    "# loadings = pd.DataFrame(pca.components_, columns=hidden_layer.columns)\n",
    "# print(loadings)\n",
    "\n",
    "X_pca=pca.transform(hidden_layer_asp)\n",
    "\n",
    "plt.matshow(pca.components_,cmap='viridis')\n",
    "plt.yticks([0,1],['1st Comp','2nd Comp'],fontsize=10)\n",
    "plt.colorbar()\n",
    "plt.xticks(range(len(hidden_layer_asp.columns)), hidden_layer_asp.columns, rotation=90)\n",
    "plt.show()"
   ],
   "metadata": {
    "collapsed": false,
    "ExecuteTime": {
     "end_time": "2023-09-21T21:31:11.707598929Z",
     "start_time": "2023-09-21T21:31:11.276002919Z"
    }
   },
   "id": "4d0fb52acd049b59",
   "outputs": []
  },
  {
   "cell_type": "code",
   "execution_count": 82,
   "source": [
    "pca = PCA(2).fit(hidden_layer)\n",
    "CompOne = pd.DataFrame(list(zip(hidden_layer.columns, pca.components_[0])),columns=('Name','Contribution to Component 1'),index=range(1, len(hidden_layer.columns) + 1, 1))\n",
    "CompOne = CompOne[(CompOne['Contribution to Component 1']>0.05) | (CompOne['Contribution to Component 1']< -0.05)]\n",
    "print(CompOne)\n",
    "\n",
    "\n",
    "pca = PCA(2).fit(hidden_layer2)\n",
    "CompOne = pd.DataFrame(list(zip(hidden_layer2.columns, pca.components_[0])),columns=('Name','Contribution to Component 1'),index=range(1, len(hidden_layer2.columns) + 1, 1))\n",
    "CompOne = CompOne[(CompOne['Contribution to Component 1']>0.05) | (CompOne['Contribution to Component 1']< -0.05)]\n",
    "print(CompOne)\n",
    "\n",
    "pca = PCA(2).fit(hidden_layer_asp)\n",
    "CompOne = pd.DataFrame(list(zip(hidden_layer_asp.columns, pca.components_[0])),columns=('Name','Contribution to Component 1'),index=range(1, len(hidden_layer_asp.columns) + 1, 1))\n",
    "CompOne = CompOne[(CompOne['Contribution to Component 1']>0.05) | (CompOne['Contribution to Component 1']< -0.05)]\n",
    "print(CompOne)"
   ],
   "metadata": {
    "collapsed": false,
    "ExecuteTime": {
     "end_time": "2023-09-21T21:31:11.737637775Z",
     "start_time": "2023-09-21T21:31:11.660514896Z"
    }
   },
   "id": "636ab618d8f834a9",
   "outputs": []
  },
  {
   "cell_type": "code",
   "execution_count": 83,
   "source": [
    "import matplotlib.pyplot as plt\n",
    "import numpy as np\n",
    "import seaborn as sns\n",
    "from sklearn import datasets\n",
    "from sklearn.preprocessing import StandardScaler\n",
    "from sklearn.decomposition import PCA\n",
    "import pandas as pd\n",
    "sns.set()\n",
    "\n",
    "pca = PCA(n_components=2)\n",
    "pca_features = pca.fit_transform(hidden_layer)\n",
    "# Principal components correlation coefficients\n",
    "loadings = pca.components_\n",
    "# Number of features before PCA\n",
    "n_features = pca.n_features_in_\n",
    "# Feature names before PCA\n",
    "feature_names = hidden_layer.columns\n",
    "\n",
    "# PC names\n",
    "pc_list = [f'PC{i}' for i in list(range(1, n_features + 1))]\n",
    "\n",
    "# Match PC names to loadings\n",
    "pc_loadings = dict(zip(pc_list, loadings))\n",
    "\n",
    "# Matrix of corr coefs between feature names and PCs\n",
    "loadings_df = pd.DataFrame.from_dict(pc_loadings)\n",
    "loadings_df['feature_names'] = feature_names\n",
    "loadings_df = loadings_df.set_index('feature_names')\n",
    "\n",
    "\n",
    "# Get the loadings of x and y axes\n",
    "xs = loadings[0]\n",
    "ys = loadings[1]\n",
    "\n",
    "\n",
    "# Create DataFrame from PCA\n",
    "pca_df = pd.DataFrame(\n",
    "    data=pca_features,\n",
    "    columns=['PC1', 'PC2'])\n",
    "\n",
    "# Scale PCS into a DataFrame\n",
    "pca_df_scaled = pca_df.copy()\n",
    "\n",
    "scaler_df = pca_df[['PC1', 'PC2']]\n",
    "scaler = 1 / (scaler_df.max() - scaler_df.min())\n",
    "\n",
    "for index in scaler.index:\n",
    "    pca_df_scaled[index] *= scaler[index]\n",
    "\n",
    "\n",
    "# Plot the loadings on a Scatter plot\n",
    "xs = loadings[0]\n",
    "ys = loadings[1]\n",
    "\n",
    "sns.lmplot(\n",
    "    x='PC1',\n",
    "    y='PC2',\n",
    "    data=pca_df_scaled,\n",
    "    fit_reg=False,\n",
    ")\n",
    "\n",
    "for i, varnames in enumerate(feature_names):\n",
    "    plt.scatter(xs[i], ys[i], s=200)\n",
    "    plt.arrow(\n",
    "        0, 0, # coordinates of arrow base\n",
    "        xs[i], # length of the arrow along x\n",
    "        ys[i], # length of the arrow along y\n",
    "        color='r',\n",
    "        head_width=0.01\n",
    "    )\n",
    "    plt.text(xs[i], ys[i], varnames)\n",
    "\n",
    "xticks = np.linspace(-0.8, 0.8, num=5)\n",
    "yticks = np.linspace(-0.8, 0.8, num=5)\n",
    "plt.xticks(xticks)\n",
    "plt.yticks(yticks)\n",
    "plt.xlabel('PC1')\n",
    "plt.ylabel('PC2')\n",
    "\n",
    "plt.title('2D Biplot')\n",
    "plt.show()"
   ],
   "metadata": {
    "collapsed": false,
    "ExecuteTime": {
     "end_time": "2023-09-21T21:31:11.949461536Z",
     "start_time": "2023-09-21T21:31:11.703563250Z"
    }
   },
   "id": "453a4d96630dcae8",
   "outputs": []
  },
  {
   "cell_type": "code",
   "execution_count": 84,
   "source": [
    "# Clustering the Embeddings\n",
    "\n",
    "from sklearn.cluster import KMeans\n",
    "from sklearn.metrics import silhouette_score\n",
    "import matplotlib.pyplot as plt\n",
    "\n",
    "kmeans_kwargs = {\n",
    "    'init': 'k-means++',\n",
    "    'n_init': 10,\n",
    "    'max_iter': 10000,\n",
    "    'random_state': 42,\n",
    "}\n",
    "silhouette_coefficients = []\n",
    "sse = []\n",
    "\n",
    "for k in range(2, 20):\n",
    "    kmeans = KMeans(n_clusters=k, **kmeans_kwargs)\n",
    "    kmeans.fit(hidden_layer)\n",
    "    score = silhouette_score(hidden_layer, kmeans.labels_)\n",
    "    silhouette_coefficients.append(score)\n",
    "    sse.append(kmeans.inertia_)\n",
    "\n",
    "plt.style.use(\"fivethirtyeight\")\n",
    "plt.plot(range(2, 20), silhouette_coefficients)\n",
    "plt.xticks(range(2, 20))\n",
    "plt.xlabel(\"Number of Clusters\")\n",
    "plt.ylabel(\"Silhouette Coefficient\")\n",
    "plt.show()\n",
    "\n",
    "plt.plot(range(2, 20), sse)\n",
    "plt.xticks(range(2, 20))\n",
    "plt.xlabel(\"Number of Clusters\")\n",
    "plt.ylabel(\"SSE\")\n",
    "plt.show()"
   ],
   "metadata": {
    "collapsed": false,
    "ExecuteTime": {
     "end_time": "2023-09-21T21:31:12.919041962Z",
     "start_time": "2023-09-21T21:31:11.943584280Z"
    }
   },
   "id": "b2429799b806249b",
   "outputs": []
  },
  {
   "cell_type": "code",
   "execution_count": 85,
   "source": [
    "# Clustering the Embeddings\n",
    "\n",
    "from sklearn.cluster import KMeans\n",
    "from sklearn.metrics import silhouette_score\n",
    "import matplotlib.pyplot as plt\n",
    "\n",
    "kmeans_kwargs = {\n",
    "    'init': 'k-means++',\n",
    "    'n_init': 20,\n",
    "    'max_iter': 10000,\n",
    "    'random_state': 42,\n",
    "}\n",
    "silhouette_coefficients = []\n",
    "sse = []\n",
    "\n",
    "for k in range(2, 20):\n",
    "    kmeans = KMeans(n_clusters=k, **kmeans_kwargs)\n",
    "    kmeans.fit(hidden_layer)\n",
    "    score = silhouette_score(hidden_layer, kmeans.labels_)\n",
    "    silhouette_coefficients.append(score)\n",
    "    sse.append(kmeans.inertia_)\n",
    "\n",
    "plt.style.use(\"fivethirtyeight\")\n",
    "plt.plot(range(2, 20), silhouette_coefficients)\n",
    "plt.xticks(range(2, 20))\n",
    "plt.xlabel(\"Number of Clusters\")\n",
    "plt.ylabel(\"Silhouette Coefficient\")\n",
    "plt.show()\n",
    "\n",
    "plt.plot(range(2, 20), sse)\n",
    "plt.xticks(range(2, 20))\n",
    "plt.xlabel(\"Number of Clusters\")\n",
    "plt.ylabel(\"SSE\")\n",
    "plt.show()"
   ],
   "metadata": {
    "collapsed": false,
    "ExecuteTime": {
     "end_time": "2023-09-21T21:31:13.967931212Z",
     "start_time": "2023-09-21T21:31:12.922543030Z"
    }
   },
   "id": "8e361bb6c58c157a",
   "outputs": []
  },
  {
   "cell_type": "code",
   "execution_count": 86,
   "id": "initial_id",
   "metadata": {
    "collapsed": true,
    "ExecuteTime": {
     "end_time": "2023-09-21T21:31:14.561541305Z",
     "start_time": "2023-09-21T21:31:13.974064213Z"
    }
   },
   "source": [
    "# Clustering with 3/4 Clusters\n",
    "import numpy as np\n",
    "from sklearn.decomposition import PCA\n",
    "kmeans_kwargs = {\n",
    "    'init': 'k-means++',\n",
    "    'n_init': 10,\n",
    "    'max_iter': 1000,\n",
    "    'random_state': 42,\n",
    "}\n",
    "\n",
    "pca = PCA(n_components=2)\n",
    "transform = pca.fit_transform(hidden_layer)\n",
    "\n",
    "print(\"Explained Variance Ratio %s\" % pca.explained_variance_ratio_)\n",
    "\n",
    "kmeans = KMeans(n_clusters=3, **kmeans_kwargs)\n",
    "labels = kmeans.fit_predict(hidden_layer)\n",
    "\n",
    "transform = pd.DataFrame(transform)\n",
    "transform['label'] = labels\n",
    "\n",
    "# plt.figure(figsize=(10,6))\n",
    "for i in np.unique(labels):\n",
    "    plt.scatter(transform[transform['label'] == i][0], transform[transform['label'] == i][1], label = i)\n",
    "plt.scatter(kmeans.cluster_centers_[:,0], kmeans.cluster_centers_[:,1], color='purple', marker='*', label='centroid')\n",
    "\n",
    "for i, txt in enumerate(corr):\n",
    "    plt.annotate('(%s, %s)' % (i, abs(txt)), (transform[0].tolist()[i], transform[1].tolist()[i]))\n",
    "\n",
    "plt.legend()\n",
    "plt.savefig('cluster.png')\n",
    "plt.show()\n",
    "transform['corr']  = corr\n",
    "transform.sort_values('label')\n",
    "transform.to_csv('0.215_embedding_space.csv')\n",
    "\n",
    "\n",
    "plt.figure(3,figsize=(20, 20))\n",
    "subgraph_adj = pd.read_csv('../GNNs/data/COPD/SparsifiedNetworks/trimmed_fev1_0.515_0.111_adj.csv', index_col=0).to_numpy()\n",
    "subgraph = nx.from_numpy_array(subgraph_adj)\n",
    "nodes_corr_dict = {}\n",
    "for node_idx, _ in enumerate(subgraph.nodes):\n",
    "    nodes_corr_dict[node_idx] = \"(%s, %s)\" % (node_idx, corr[node_idx])\n",
    "\n",
    "labels_colors_map = {0: '#ffe119', 1: '#911eb4', 2: '#3cb44b', 3: '#ffc118'}\n",
    "colors_map = []\n",
    "for node_idx, _ in enumerate(subgraph.nodes):\n",
    "    colors_map.append(labels_colors_map[int(transform.iloc[node_idx].label)])\n",
    "\n",
    "edge_labels = {key: round(nx.get_edge_attributes(subgraph, 'weight')[key], 2) for key in nx.get_edge_attributes(subgraph, 'weight')}\n",
    "\n",
    "pos=nx.spring_layout(subgraph)\n",
    "nx.draw(subgraph, labels=nodes_corr_dict, with_labels=True, node_size=50, node_color=colors_map, edge_color='#9D9F9D', pos=pos)\n",
    "nx.draw_networkx_edge_labels(subgraph, pos=pos, edge_labels=edge_labels)"
   ],
   "outputs": []
  },
  {
   "cell_type": "code",
   "execution_count": 116,
   "source": [
    "from networkx.algorithms.traversal.depth_first_search import dfs_tree\n",
    "from networkx.algorithms.traversal.breadth_first_search import  bfs_tree\n",
    "subgraph_dir = subgraph.to_directed()\n",
    "# nx.draw(subgraph_dir, with_labels=True)\n",
    "print([x for x in nx.neighbors(subgraph, 14)])\n",
    "subtree_at_14 = bfs_tree(subgraph_dir, source=14, depth_limit=2)\n",
    "\n",
    "pos=nx.spring_layout(subgraph)\n",
    "nx.draw(subtree_at_14, with_labels=True, node_size=50, pos=pos)\n",
    "\n",
    "    "
   ],
   "metadata": {
    "collapsed": false,
    "ExecuteTime": {
     "end_time": "2023-09-22T00:11:10.862197059Z",
     "start_time": "2023-09-22T00:11:10.711516279Z"
    }
   },
   "id": "60b9786442f3776f",
   "outputs": []
  },
  {
   "cell_type": "code",
   "execution_count": null,
   "source": [],
   "metadata": {
    "collapsed": false
   },
   "id": "e1250ff63252a2fe",
   "outputs": []
  },
  {
   "cell_type": "code",
   "execution_count": 87,
   "source": [
    "transform"
   ],
   "metadata": {
    "collapsed": false,
    "ExecuteTime": {
     "end_time": "2023-09-21T21:31:14.564372249Z",
     "start_time": "2023-09-21T21:31:14.562420573Z"
    }
   },
   "id": "5295f8d5b926569f",
   "outputs": []
  },
  {
   "cell_type": "code",
   "execution_count": 88,
   "source": [
    "for cluster in transform.label.unique():\n",
    "    print(\"Cluster: %d\" % cluster)\n",
    "    nodes_indices = transform[transform['label'] == cluster].index.tolist()\n",
    "    nodes_correlations = transform[transform['label'] == cluster]['corr'].tolist()\n",
    "    \n",
    "    nodes_degrees = [dict(nx.degree(subgraph)).get(x) for x in nodes_indices]\n",
    "    nodes_clustering_coeff = [round(nx.clustering(subgraph, weight='weight').get(x), 4) for x in nodes_indices]\n",
    "    nodes_betweeness_cen = [round(nx.betweenness_centrality(subgraph, weight='weight').get(x), 4) for x in nodes_indices]\n",
    "    nodes_degree_cen = [round(nx.degree_centrality(subgraph).get(x), 4) for x in nodes_indices]\n",
    "    nodes_eigen_cen = [round(nx.eigenvector_centrality(subgraph, weight='weight').get(x), 4) for x in nodes_indices]\n",
    "    nodes_pagerank = [round(nx.pagerank(subgraph, weight='weight').get(x), 4) for x in nodes_indices]\n",
    "    print(\"Nodes IDs: %s\" % nodes_indices)\n",
    "    print(\"Nodes Correlation with the Phenotype %s\" % nodes_correlations)\n",
    "    \n",
    "    # print(\"Nodes Degrees: %s\" % nodes_degrees)\n",
    "    # print(\"Nodes Clustering Coeff: %s\" % nodes_clustering_coeff)\n",
    "    # print(\"Nodes Betweeness Cen: %s\" % nodes_betweeness_cen)\n",
    "    # print(\"Nodes Degree Cen: %s\" % nodes_degree_cen)\n",
    "    # print(\"Nodes Eigenvector Cen: %s\" % nodes_eigen_cen)\n",
    "    # print(\"Nodes Pagerank: %s\" % nodes_pagerank)\n",
    "    # print(\"Nodes Cosine Similarity: %s\" % nodes_most_similar)\n",
    "    # print(\"Embeddings Cosine Similarity: %s\" % embeddings_most_similar)"
   ],
   "metadata": {
    "collapsed": false,
    "ExecuteTime": {
     "end_time": "2023-09-21T21:31:14.845364456Z",
     "start_time": "2023-09-21T21:31:14.566280916Z"
    }
   },
   "id": "286de592a1939dbb",
   "outputs": []
  },
  {
   "cell_type": "code",
   "execution_count": 89,
   "source": [
    "for cluster in transform.label.unique():\n",
    "    print(cluster)\n",
    "    nodes_indices = transform[transform['label'] == cluster].index.tolist()\n",
    "    nodes_correlations = transform[transform['label'] == cluster]['corr'].tolist()\n",
    "\n",
    "\n",
    "    nodes_features = features[nodes_indices]\n",
    "    \n",
    "    nodes_most_similar = cosine_sim[nodes_indices]\n",
    "    embeddings_most_similar = hidden_layer_cosine_sim[nodes_indices]\n",
    "\n",
    "    nodes_degrees = [dict(nx.degree(subgraph)).get(x) for x in nodes_indices]\n",
    "    nodes_clustering_coeff = [round(nx.clustering(subgraph, weight='weight').get(x), 4) for x in nodes_indices]\n",
    "    nodes_betweeness_cen = [round(nx.betweenness_centrality(subgraph, weight='weight').get(x), 4) for x in nodes_indices]\n",
    "    nodes_degree_cen = [round(nx.degree_centrality(subgraph).get(x), 4) for x in nodes_indices]\n",
    "    nodes_eigen_cen = [round(nx.eigenvector_centrality(subgraph, weight='weight').get(x), 4) for x in nodes_indices]\n",
    "    nodes_pagerank = [round(nx.pagerank(subgraph, weight='weight').get(x), 4) for x in nodes_indices]\n",
    "    print(\"Nodes IDs: %s\" % nodes_indices)\n",
    "    print(\"Nodes Features Average: %s\" % [round(x, 4) for x in np.mean(nodes_features, axis=0)])\n",
    "    print(\"Nodes Features Std: %s\" % [round(x, 4) for x in np.std(nodes_features, axis=0)])\n",
    "\n",
    "    # print(\"Nodes Degrees: %s\" % nodes_degrees)\n",
    "    # print(\"Nodes Clustering Coeff: %s\" % nodes_clustering_coeff)\n",
    "    # print(\"Nodes Betweeness Cen: %s\" % nodes_betweeness_cen)\n",
    "    # print(\"Nodes Degree Cen: %s\" % nodes_degree_cen)\n",
    "    # print(\"Nodes Eigenvector Cen: %s\" % nodes_eigen_cen)\n",
    "    # print(\"Nodes Pagerank: %s\" % nodes_pagerank)\n",
    "    # print(\"Nodes Cosine Similarity: %s\" % nodes_most_similar)\n",
    "    # print(\"Embeddings Cosine Similarity: %s\" % embeddings_most_similar)"
   ],
   "metadata": {
    "collapsed": false,
    "ExecuteTime": {
     "end_time": "2023-09-21T21:31:14.845686819Z",
     "start_time": "2023-09-21T21:31:14.774958578Z"
    }
   },
   "id": "6254078371a20d85",
   "outputs": []
  },
  {
   "cell_type": "code",
   "execution_count": 90,
   "source": [
    "for cluster in transform.label.unique():\n",
    "    print(cluster)\n",
    "    nodes_indices = transform[transform['label'] == cluster].index.tolist()\n",
    "    nodes_correlations = transform[transform['label'] == cluster]['corr'].tolist()\n",
    "\n",
    "    nodes_features = features[nodes_indices]\n",
    "\n",
    "    nodes_most_similar = cosine_sim[nodes_indices]\n",
    "    nodes_most_similar = nodes_most_similar[:, nodes_indices].round(2)\n",
    "    embeddings_most_similar = hidden_layer_cosine_sim[nodes_indices]\n",
    "    embeddings_most_similar = embeddings_most_similar[:, nodes_indices].round(2)\n",
    "\n",
    "    nodes_degrees = [dict(nx.degree(subgraph)).get(x) for x in nodes_indices]\n",
    "    nodes_clustering_coeff = [round(nx.clustering(subgraph, weight='weight').get(x), 4) for x in nodes_indices]\n",
    "    nodes_betweeness_cen = [round(nx.betweenness_centrality(subgraph, weight='weight').get(x), 4) for x in nodes_indices]\n",
    "    nodes_degree_cen = [round(nx.degree_centrality(subgraph).get(x), 4) for x in nodes_indices]\n",
    "    nodes_eigen_cen = [round(nx.eigenvector_centrality(subgraph, weight='weight').get(x), 4) for x in nodes_indices]\n",
    "    nodes_pagerank = [round(nx.pagerank(subgraph, weight='weight').get(x), 4) for x in nodes_indices]\n",
    "    print(\"Nodes IDs: %s\" % nodes_indices)\n",
    "    print(\"Nodes Features Similarity: %s\" % nodes_most_similar)\n",
    "    # print(\"Embeddings Similarity: %s\" % embeddings_most_similar)\n",
    "\n",
    "    # print(\"Nodes Degrees: %s\" % nodes_degrees)\n",
    "    # print(\"Nodes Clustering Coeff: %s\" % nodes_clustering_coeff)\n",
    "    # print(\"Nodes Betweeness Cen: %s\" % nodes_betweeness_cen)\n",
    "    # print(\"Nodes Degree Cen: %s\" % nodes_degree_cen)\n",
    "    # print(\"Nodes Eigenvector Cen: %s\" % nodes_eigen_cen)\n",
    "    # print(\"Nodes Pagerank: %s\" % nodes_pagerank)\n",
    "    # print(\"Nodes Cosine Similarity: %s\" % nodes_most_similar)\n",
    "    # print(\"Embeddings Cosine Similarity: %s\" % embeddings_most_similar)"
   ],
   "metadata": {
    "collapsed": false,
    "ExecuteTime": {
     "end_time": "2023-09-21T21:31:14.955455501Z",
     "start_time": "2023-09-21T21:31:14.815616759Z"
    }
   },
   "id": "d047d8f195af91e0",
   "outputs": []
  },
  {
   "cell_type": "code",
   "execution_count": 91,
   "source": [
    "cosine_sim"
   ],
   "metadata": {
    "collapsed": false,
    "ExecuteTime": {
     "end_time": "2023-09-21T21:31:14.968598486Z",
     "start_time": "2023-09-21T21:31:14.887331469Z"
    }
   },
   "id": "729614323eff6794",
   "outputs": []
  },
  {
   "cell_type": "code",
   "execution_count": 92,
   "source": [
    "np.where(cosine_sim > 0.5, cosine_sim, 0)"
   ],
   "metadata": {
    "collapsed": false,
    "ExecuteTime": {
     "end_time": "2023-09-21T21:31:14.969540751Z",
     "start_time": "2023-09-21T21:31:14.931582285Z"
    }
   },
   "id": "6ee723e8acf160d4",
   "outputs": []
  },
  {
   "cell_type": "code",
   "execution_count": 93,
   "source": [
    "np.where(np.where(cosine_sim > 0.5, cosine_sim, 0) == 0) # Add Code to Create Tuples of Nodes that Shouldn't be in the same Cluster & Do the same thing for Embeddings\n",
    "\n",
    "# look at the computational graph of both nodes with nodes names and check if it's the same or if it's average it's gonna be the same."
   ],
   "metadata": {
    "collapsed": false,
    "ExecuteTime": {
     "end_time": "2023-09-21T21:31:14.969767555Z",
     "start_time": "2023-09-21T21:31:14.931800663Z"
    }
   },
   "id": "197cef8256243978",
   "outputs": []
  },
  {
   "cell_type": "code",
   "execution_count": 94,
   "source": [
    "node_25_neighbors = [x for x in nx.neighbors(subgraph, 25)]\n",
    "node_14_neighbors = [x for x in nx.neighbors(subgraph, 14)]\n",
    "\n",
    "print(\"Node 14 Neighbors: %s\" % node_14_neighbors)\n",
    "print(\"Node 25 Neighbors: %s\" % node_25_neighbors)\n",
    "\n",
    "additional_nodes = [x for x in node_25_neighbors if x not in node_14_neighbors]\n",
    "print(\"Additional Nodes: %s\" % additional_nodes)\n",
    "additional_nodes_sim = cosine_sim[additional_nodes]\n",
    "additional_nodes_sim = additional_nodes_sim[:, node_14_neighbors]\n",
    "additional_nodes_sim\n",
    "# nodes_most_similar = cosine_sim[nodes_indices]\n",
    "# nodes_most_similar = nodes_most_similar[:, nodes_indices].round(2)"
   ],
   "metadata": {
    "collapsed": false,
    "ExecuteTime": {
     "end_time": "2023-09-21T21:31:14.970176778Z",
     "start_time": "2023-09-21T21:31:14.931863300Z"
    }
   },
   "id": "dc6c3022243c7480",
   "outputs": []
  },
  {
   "cell_type": "code",
   "execution_count": 97,
   "source": [
    "# Clustering with 3/4 Clusters\n",
    "import numpy as np\n",
    "from sklearn.decomposition import PCA\n",
    "kmeans_kwargs = {\n",
    "    'init': 'k-means++',\n",
    "    'n_init': 20,\n",
    "    'max_iter': 100,\n",
    "    'random_state': 42,\n",
    "}\n",
    "\n",
    "pca = PCA(n_components=2)\n",
    "transform = pca.fit_transform(hidden_layer2)\n",
    "\n",
    "print(\"Explained Variance Ratio %s\" % pca.explained_variance_ratio_)\n",
    "\n",
    "kmeans = KMeans(n_clusters=3, **kmeans_kwargs)\n",
    "labels = kmeans.fit_predict(hidden_layer2)\n",
    "\n",
    "transform = pd.DataFrame(transform)\n",
    "transform['label'] = labels\n",
    "\n",
    "# plt.figure(figsize=(10,6))\n",
    "for i in np.unique(labels):\n",
    "    plt.scatter(transform[transform['label'] == i][0], transform[transform['label'] == i][1], label = i)\n",
    "plt.scatter(kmeans.cluster_centers_[:,0], kmeans.cluster_centers_[:,1], color='purple', marker='*', label='centroid')\n",
    "\n",
    "for i, txt in enumerate(corr):\n",
    "    plt.annotate('(%s, %s)' % (i, abs(txt)), (transform[0].tolist()[i], transform[1].tolist()[i]))\n",
    "\n",
    "plt.legend()\n",
    "plt.savefig('cluster.png')\n",
    "plt.show()\n",
    "transform['corr']  = corr\n",
    "transform.sort_values('label')\n",
    "transform.to_csv('0.215_embedding_space.csv')\n",
    "\n",
    "\n",
    "plt.figure(3,figsize=(20, 20))\n",
    "subgraph_adj = pd.read_csv('../GNNs/data/COPD/SparsifiedNetworks/trimmed_fev1_0.515_0.111_adj.csv', index_col=0).to_numpy()\n",
    "subgraph = nx.from_numpy_array(subgraph_adj)\n",
    "nodes_corr_dict = {}\n",
    "for node_idx, _ in enumerate(subgraph.nodes):\n",
    "    nodes_corr_dict[node_idx] = \"(%s, %s)\" % (node_idx, corr[node_idx])\n",
    "\n",
    "labels_colors_map = {0: '#ffe119', 1: '#911eb4', 2: '#3cb44b', 3: '#000000'}\n",
    "colors_map = []\n",
    "for node_idx, _ in enumerate(subgraph.nodes):\n",
    "    colors_map.append(labels_colors_map[int(transform.iloc[node_idx].label)])\n",
    "\n",
    "edge_labels = {key: round(nx.get_edge_attributes(subgraph, 'weight')[key], 2) for key in nx.get_edge_attributes(subgraph, 'weight')}\n",
    "\n",
    "pos=nx.spring_layout(subgraph)\n",
    "nx.draw(subgraph, labels=nodes_corr_dict, with_labels=True, node_size=50, node_color=colors_map, edge_color='#9D9F9D', pos=pos)\n",
    "nx.draw_networkx_edge_labels(subgraph, pos=pos, edge_labels=edge_labels)"
   ],
   "metadata": {
    "collapsed": false,
    "ExecuteTime": {
     "end_time": "2023-09-21T21:36:22.690447865Z",
     "start_time": "2023-09-21T21:36:21.737174249Z"
    }
   },
   "id": "35a73f6a1d3b194c",
   "outputs": []
  },
  {
   "cell_type": "code",
   "execution_count": 98,
   "source": [
    "for cluster in transform.label.unique():\n",
    "    print(\"Cluster: %d\" % cluster)\n",
    "    nodes_indices = transform[transform['label'] == cluster].index.tolist()\n",
    "    nodes_correlations = transform[transform['label'] == cluster]['corr'].tolist()\n",
    "\n",
    "    nodes_degrees = [dict(nx.degree(subgraph)).get(x) for x in nodes_indices]\n",
    "    nodes_clustering_coeff = [round(nx.clustering(subgraph, weight='weight').get(x), 4) for x in nodes_indices]\n",
    "    nodes_betweeness_cen = [round(nx.betweenness_centrality(subgraph, weight='weight').get(x), 4) for x in nodes_indices]\n",
    "    nodes_degree_cen = [round(nx.degree_centrality(subgraph).get(x), 4) for x in nodes_indices]\n",
    "    nodes_eigen_cen = [round(nx.eigenvector_centrality(subgraph, weight='weight').get(x), 4) for x in nodes_indices]\n",
    "    nodes_pagerank = [round(nx.pagerank(subgraph, weight='weight').get(x), 4) for x in nodes_indices]\n",
    "    print(\"Nodes IDs: %s\" % nodes_indices)\n",
    "    print(\"Nodes Correlation with the Phenotype %s\" % nodes_correlations)\n",
    "\n",
    "    # print(\"Nodes Degrees: %s\" % nodes_degrees)\n",
    "    # print(\"Nodes Clustering Coeff: %s\" % nodes_clustering_coeff)\n",
    "    # print(\"Nodes Betweeness Cen: %s\" % nodes_betweeness_cen)\n",
    "    # print(\"Nodes Degree Cen: %s\" % nodes_degree_cen)\n",
    "    # print(\"Nodes Eigenvector Cen: %s\" % nodes_eigen_cen)\n",
    "    # print(\"Nodes Pagerank: %s\" % nodes_pagerank)\n",
    "    # print(\"Nodes Cosine Similarity: %s\" % nodes_most_similar)\n",
    "    # print(\"Embeddings Cosine Similarity: %s\" % embeddings_most_similar)"
   ],
   "metadata": {
    "collapsed": false,
    "ExecuteTime": {
     "end_time": "2023-09-21T21:37:16.690994839Z",
     "start_time": "2023-09-21T21:37:16.577157913Z"
    }
   },
   "id": "6645f9e38f4bce21",
   "outputs": []
  },
  {
   "cell_type": "code",
   "execution_count": null,
   "source": [],
   "metadata": {
    "collapsed": false
   },
   "id": "bcb79d7db92bcca",
   "outputs": []
  },
  {
   "cell_type": "code",
   "execution_count": null,
   "source": [],
   "metadata": {
    "collapsed": false
   },
   "id": "772fce14dfb54757",
   "outputs": []
  },
  {
   "cell_type": "code",
   "execution_count": 96,
   "source": [
    "# Clustering with 3/4 Clusters\n",
    "import numpy as np\n",
    "from sklearn.decomposition import PCA\n",
    "kmeans_kwargs = {\n",
    "    'init': 'k-means++',\n",
    "    'n_init': 20,\n",
    "    'max_iter': 100,\n",
    "    'random_state': 42,\n",
    "}\n",
    "\n",
    "pca = PCA(n_components=2)\n",
    "transform = pca.fit_transform(hidden_layer_asp)\n",
    "\n",
    "print(\"Explained Variance Ratio %s\" % pca.explained_variance_ratio_)\n",
    "\n",
    "kmeans = KMeans(n_clusters=3, **kmeans_kwargs)\n",
    "labels = kmeans.fit_predict(hidden_layer_asp)\n",
    "\n",
    "transform = pd.DataFrame(transform)\n",
    "transform['label'] = labels\n",
    "\n",
    "# plt.figure(figsize=(10,6))\n",
    "for i in np.unique(labels):\n",
    "    plt.scatter(transform[transform['label'] == i][0], transform[transform['label'] == i][1], label = i)\n",
    "plt.scatter(kmeans.cluster_centers_[:,0], kmeans.cluster_centers_[:,1], color='purple', marker='*', label='centroid')\n",
    "\n",
    "for i, txt in enumerate(corr):\n",
    "    plt.annotate('(%s, %s)' % (i, abs(txt)), (transform[0].tolist()[i], transform[1].tolist()[i]))\n",
    "\n",
    "plt.legend()\n",
    "plt.savefig('cluster.png')\n",
    "plt.show()\n",
    "transform['corr']  = corr\n",
    "transform.sort_values('label')\n",
    "transform.to_csv('0.215_embedding_space.csv')\n",
    "\n",
    "\n",
    "plt.figure(3,figsize=(20, 20))\n",
    "subgraph_adj = pd.read_csv('../GNNs/data/COPD/SparsifiedNetworks/trimmed_fev1_0.515_0.111_adj.csv', index_col=0).to_numpy()\n",
    "subgraph = nx.from_numpy_array(subgraph_adj)\n",
    "nodes_corr_dict = {}\n",
    "for node_idx, _ in enumerate(subgraph.nodes):\n",
    "    nodes_corr_dict[node_idx] = \"(%s, %s)\" % (node_idx, corr[node_idx])\n",
    "\n",
    "labels_colors_map = {0: '#ffe119', 1: '#911eb4', 2: '#3cb44b', 3: '#000000'}\n",
    "colors_map = []\n",
    "for node_idx, _ in enumerate(subgraph.nodes):\n",
    "    colors_map.append(labels_colors_map[int(transform.iloc[node_idx].label)])\n",
    "\n",
    "edge_labels = {key: round(nx.get_edge_attributes(subgraph, 'weight')[key], 2) for key in nx.get_edge_attributes(subgraph, 'weight')}\n",
    "\n",
    "pos=nx.spring_layout(subgraph)\n",
    "nx.draw(subgraph, labels=nodes_corr_dict, with_labels=True, node_size=50, node_color=colors_map, edge_color='#9D9F9D', pos=pos)\n",
    "nx.draw_networkx_edge_labels(subgraph, pos=pos, edge_labels=edge_labels)"
   ],
   "metadata": {
    "collapsed": false,
    "ExecuteTime": {
     "end_time": "2023-09-21T21:31:16.505072268Z",
     "start_time": "2023-09-21T21:31:15.579080670Z"
    }
   },
   "id": "e271c9d34208b6b5",
   "outputs": []
  }
 ],
 "metadata": {
  "kernelspec": {
   "display_name": "Python 3",
   "language": "python",
   "name": "python3"
  },
  "language_info": {
   "codemirror_mode": {
    "name": "ipython",
    "version": 2
   },
   "file_extension": ".py",
   "mimetype": "text/x-python",
   "name": "python",
   "nbconvert_exporter": "python",
   "pygments_lexer": "ipython2",
   "version": "2.7.6"
  }
 },
 "nbformat": 4,
 "nbformat_minor": 5
}
